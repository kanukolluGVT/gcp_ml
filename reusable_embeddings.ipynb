{
 "cells": [
  {
   "cell_type": "markdown",
   "metadata": {},
   "source": [
    "# Reusable Embeddings\n",
    "\n",
    "**Learning Objectives**\n",
    "1. Learn how to use pre-trained TF Hub text modules to generate sentence vectors.\n",
    "1. Learn how to incorporate a pre-trained TF-Hub module into a Keras model.\n",
    "\n",
    "## Introduction\n",
    "\n",
    "\n",
    "In this notebook, we will implement text models to recognize the probable source (Github, Tech-Crunch, or The New-York Times) of the titles we have in the title dataset.\n",
    "\n",
    "First, we will load and pre-process the texts and labels so that they are suitable to be fed to sequential Keras models with first layer being TF-hub pre-trained modules. Thanks to this first layer, we won't need to tokenize and integerize the text before passing it to our models. The pre-trained layer will take care of that for us, and consume directly raw text. However, we will still have to one-hot-encode each of the 3 classes into a 3 dimensional basis vector.\n",
    "\n",
    "Then we will build, train and compare simple DNN models starting with different pre-trained TF-Hub layers."
   ]
  },
  {
   "cell_type": "code",
   "execution_count": 1,
   "metadata": {
    "tags": []
   },
   "outputs": [],
   "source": [
    "import os\n",
    "\n",
    "from google.cloud import bigquery\n",
    "import pandas as pd"
   ]
  },
  {
   "cell_type": "code",
   "execution_count": 2,
   "metadata": {
    "tags": []
   },
   "outputs": [
    {
     "name": "stdout",
     "output_type": "stream",
     "text": [
      "The google.cloud.bigquery extension is already loaded. To reload it, use:\n",
      "  %reload_ext google.cloud.bigquery\n"
     ]
    }
   ],
   "source": [
    "%load_ext google.cloud.bigquery"
   ]
  },
  {
   "cell_type": "markdown",
   "metadata": {},
   "source": [
    "Replace the variable values in the cell below:"
   ]
  },
  {
   "cell_type": "code",
   "execution_count": 3,
   "metadata": {
    "tags": []
   },
   "outputs": [],
   "source": [
    "PROJECT = \"qwiklabs-gcp-03-fb03c5897bef\"  # Replace with your PROJECT\n",
    "BUCKET = PROJECT \n",
    "REGION = \"us-central1\"  \n",
    "\n",
    "os.environ['PROJECT'] = PROJECT\n",
    "os.environ['BUCKET'] = BUCKET\n",
    "os.environ['REGION'] = REGION"
   ]
  },
  {
   "cell_type": "markdown",
   "metadata": {},
   "source": [
    "## Create a Dataset from BigQuery \n",
    "\n",
    "Hacker news headlines are available as a BigQuery public dataset. The [dataset](https://bigquery.cloud.google.com/table/bigquery-public-data:hacker_news.stories?tab=details) contains all headlines from the sites inception in October 2006 until October 2015. \n",
    "\n",
    "Here is a sample of the dataset:"
   ]
  },
  {
   "cell_type": "code",
   "execution_count": 4,
   "metadata": {
    "tags": []
   },
   "outputs": [
    {
     "data": {
      "application/vnd.jupyter.widget-view+json": {
       "model_id": "cd7ccb02cd9c4aa58a565166edbad4e0",
       "version_major": 2,
       "version_minor": 0
      },
      "text/plain": [
       "Query is running:   0%|          |"
      ]
     },
     "metadata": {},
     "output_type": "display_data"
    },
    {
     "data": {
      "application/vnd.jupyter.widget-view+json": {
       "model_id": "73afdee87e4347bcaf643f15bb26381a",
       "version_major": 2,
       "version_minor": 0
      },
      "text/plain": [
       "Downloading:   0%|          |"
      ]
     },
     "metadata": {},
     "output_type": "display_data"
    },
    {
     "data": {
      "text/html": [
       "<div>\n",
       "<style scoped>\n",
       "    .dataframe tbody tr th:only-of-type {\n",
       "        vertical-align: middle;\n",
       "    }\n",
       "\n",
       "    .dataframe tbody tr th {\n",
       "        vertical-align: top;\n",
       "    }\n",
       "\n",
       "    .dataframe thead th {\n",
       "        text-align: right;\n",
       "    }\n",
       "</style>\n",
       "<table border=\"1\" class=\"dataframe\">\n",
       "  <thead>\n",
       "    <tr style=\"text-align: right;\">\n",
       "      <th></th>\n",
       "      <th>url</th>\n",
       "      <th>title</th>\n",
       "      <th>score</th>\n",
       "    </tr>\n",
       "  </thead>\n",
       "  <tbody>\n",
       "    <tr>\n",
       "      <th>0</th>\n",
       "      <td>https://postgresml.org/user_guides/transformer...</td>\n",
       "      <td>Show HN: PostgresML integrates Hugging Face to...</td>\n",
       "      <td>14</td>\n",
       "    </tr>\n",
       "    <tr>\n",
       "      <th>1</th>\n",
       "      <td>http://www.jvmhost.com/articles/memory-usage-c...</td>\n",
       "      <td>JVM Host - Memory usage comparison of Java App...</td>\n",
       "      <td>15</td>\n",
       "    </tr>\n",
       "    <tr>\n",
       "      <th>2</th>\n",
       "      <td>http://quoterobot.com</td>\n",
       "      <td>Show HN: QuoteRobot Rebuilt In Python/Flask/Mo...</td>\n",
       "      <td>18</td>\n",
       "    </tr>\n",
       "    <tr>\n",
       "      <th>3</th>\n",
       "      <td>http://shoutfast.com</td>\n",
       "      <td>Show HN: I made this: ShoutFast</td>\n",
       "      <td>32</td>\n",
       "    </tr>\n",
       "    <tr>\n",
       "      <th>4</th>\n",
       "      <td>http://bribe.io/</td>\n",
       "      <td>Bribe developers to fix bugs</td>\n",
       "      <td>38</td>\n",
       "    </tr>\n",
       "    <tr>\n",
       "      <th>5</th>\n",
       "      <td>http://chronicle.com/article/Coursera-Throws-a...</td>\n",
       "      <td>John Doerr: Coursera 'Could Be Big The Way Goo...</td>\n",
       "      <td>49</td>\n",
       "    </tr>\n",
       "    <tr>\n",
       "      <th>6</th>\n",
       "      <td>http://legacy.earlham.edu/~peters/writing/infa...</td>\n",
       "      <td>A Crash Course in the Mathematics Of Infinite ...</td>\n",
       "      <td>51</td>\n",
       "    </tr>\n",
       "    <tr>\n",
       "      <th>7</th>\n",
       "      <td>http://blog.kaelig.fr/post/51078221503/apple-i...</td>\n",
       "      <td>Apple Is Using Sass, And They’re Doing It Wrong</td>\n",
       "      <td>71</td>\n",
       "    </tr>\n",
       "    <tr>\n",
       "      <th>8</th>\n",
       "      <td>https://bugs.ruby-lang.org/issues/8339</td>\n",
       "      <td>Generational Garbage Collection for Ruby 2.1</td>\n",
       "      <td>85</td>\n",
       "    </tr>\n",
       "    <tr>\n",
       "      <th>9</th>\n",
       "      <td>http://jackwmorgan.com/ok-glass</td>\n",
       "      <td>Ok, glass – new Google Glass concepts</td>\n",
       "      <td>89</td>\n",
       "    </tr>\n",
       "  </tbody>\n",
       "</table>\n",
       "</div>"
      ],
      "text/plain": [
       "                                                 url  \\\n",
       "0  https://postgresml.org/user_guides/transformer...   \n",
       "1  http://www.jvmhost.com/articles/memory-usage-c...   \n",
       "2                              http://quoterobot.com   \n",
       "3                               http://shoutfast.com   \n",
       "4                                   http://bribe.io/   \n",
       "5  http://chronicle.com/article/Coursera-Throws-a...   \n",
       "6  http://legacy.earlham.edu/~peters/writing/infa...   \n",
       "7  http://blog.kaelig.fr/post/51078221503/apple-i...   \n",
       "8             https://bugs.ruby-lang.org/issues/8339   \n",
       "9                    http://jackwmorgan.com/ok-glass   \n",
       "\n",
       "                                               title  score  \n",
       "0  Show HN: PostgresML integrates Hugging Face to...     14  \n",
       "1  JVM Host - Memory usage comparison of Java App...     15  \n",
       "2  Show HN: QuoteRobot Rebuilt In Python/Flask/Mo...     18  \n",
       "3                    Show HN: I made this: ShoutFast     32  \n",
       "4                       Bribe developers to fix bugs     38  \n",
       "5  John Doerr: Coursera 'Could Be Big The Way Goo...     49  \n",
       "6  A Crash Course in the Mathematics Of Infinite ...     51  \n",
       "7    Apple Is Using Sass, And They’re Doing It Wrong     71  \n",
       "8       Generational Garbage Collection for Ruby 2.1     85  \n",
       "9              Ok, glass – new Google Glass concepts     89  "
      ]
     },
     "execution_count": 4,
     "metadata": {},
     "output_type": "execute_result"
    }
   ],
   "source": [
    "%%bigquery --project $PROJECT\n",
    "\n",
    "SELECT\n",
    "    url, title, score\n",
    "FROM\n",
    "    `bigquery-public-data.hacker_news.full`\n",
    "WHERE\n",
    "    LENGTH(title) > 10\n",
    "    AND score > 10\n",
    "    AND LENGTH(url) > 0\n",
    "LIMIT 10"
   ]
  },
  {
   "cell_type": "markdown",
   "metadata": {},
   "source": [
    "Let's do some regular expression parsing in BigQuery to get the source of the newspaper article from the URL. For example, if the url is http://mobile.nytimes.com/...., I want to be left with <i>nytimes</i>"
   ]
  },
  {
   "cell_type": "code",
   "execution_count": 5,
   "metadata": {},
   "outputs": [
    {
     "data": {
      "application/vnd.jupyter.widget-view+json": {
       "model_id": "aed7cb8b7d11416b98f5863207853a4a",
       "version_major": 2,
       "version_minor": 0
      },
      "text/plain": [
       "Query is running:   0%|          |"
      ]
     },
     "metadata": {},
     "output_type": "display_data"
    },
    {
     "data": {
      "application/vnd.jupyter.widget-view+json": {
       "model_id": "93ff6b4a40634ec5a059dde32093d99b",
       "version_major": 2,
       "version_minor": 0
      },
      "text/plain": [
       "Downloading:   0%|          |"
      ]
     },
     "metadata": {},
     "output_type": "display_data"
    },
    {
     "data": {
      "text/html": [
       "<div>\n",
       "<style scoped>\n",
       "    .dataframe tbody tr th:only-of-type {\n",
       "        vertical-align: middle;\n",
       "    }\n",
       "\n",
       "    .dataframe tbody tr th {\n",
       "        vertical-align: top;\n",
       "    }\n",
       "\n",
       "    .dataframe thead th {\n",
       "        text-align: right;\n",
       "    }\n",
       "</style>\n",
       "<table border=\"1\" class=\"dataframe\">\n",
       "  <thead>\n",
       "    <tr style=\"text-align: right;\">\n",
       "      <th></th>\n",
       "      <th>source</th>\n",
       "      <th>num_articles</th>\n",
       "    </tr>\n",
       "  </thead>\n",
       "  <tbody>\n",
       "    <tr>\n",
       "      <th>0</th>\n",
       "      <td>github</td>\n",
       "      <td>139395</td>\n",
       "    </tr>\n",
       "    <tr>\n",
       "      <th>1</th>\n",
       "      <td>medium</td>\n",
       "      <td>125985</td>\n",
       "    </tr>\n",
       "    <tr>\n",
       "      <th>2</th>\n",
       "      <td>youtube</td>\n",
       "      <td>101025</td>\n",
       "    </tr>\n",
       "    <tr>\n",
       "      <th>3</th>\n",
       "      <td>nytimes</td>\n",
       "      <td>73114</td>\n",
       "    </tr>\n",
       "    <tr>\n",
       "      <th>4</th>\n",
       "      <td>blogspot</td>\n",
       "      <td>59863</td>\n",
       "    </tr>\n",
       "    <tr>\n",
       "      <th>...</th>\n",
       "      <td>...</td>\n",
       "      <td>...</td>\n",
       "    </tr>\n",
       "    <tr>\n",
       "      <th>95</th>\n",
       "      <td>nextplatform</td>\n",
       "      <td>2647</td>\n",
       "    </tr>\n",
       "    <tr>\n",
       "      <th>96</th>\n",
       "      <td>anandtech</td>\n",
       "      <td>2629</td>\n",
       "    </tr>\n",
       "    <tr>\n",
       "      <th>97</th>\n",
       "      <td>extremetech</td>\n",
       "      <td>2598</td>\n",
       "    </tr>\n",
       "    <tr>\n",
       "      <th>98</th>\n",
       "      <td>politico</td>\n",
       "      <td>2594</td>\n",
       "    </tr>\n",
       "    <tr>\n",
       "      <th>99</th>\n",
       "      <td>9to5mac</td>\n",
       "      <td>2590</td>\n",
       "    </tr>\n",
       "  </tbody>\n",
       "</table>\n",
       "<p>100 rows × 2 columns</p>\n",
       "</div>"
      ],
      "text/plain": [
       "          source  num_articles\n",
       "0         github        139395\n",
       "1         medium        125985\n",
       "2        youtube        101025\n",
       "3        nytimes         73114\n",
       "4       blogspot         59863\n",
       "..           ...           ...\n",
       "95  nextplatform          2647\n",
       "96     anandtech          2629\n",
       "97   extremetech          2598\n",
       "98      politico          2594\n",
       "99       9to5mac          2590\n",
       "\n",
       "[100 rows x 2 columns]"
      ]
     },
     "execution_count": 5,
     "metadata": {},
     "output_type": "execute_result"
    }
   ],
   "source": [
    "%%bigquery --project $PROJECT\n",
    "\n",
    "SELECT\n",
    "    ARRAY_REVERSE(SPLIT(REGEXP_EXTRACT(url, '.*://(.[^/]+)/'), '.'))[safe_offset (1)] AS source,\n",
    "    COUNT(title) AS num_articles\n",
    "FROM\n",
    "    `bigquery-public-data.hacker_news.full`\n",
    "WHERE\n",
    "    REGEXP_CONTAINS(REGEXP_EXTRACT(url, '.*://(.[^/]+)/'), '.com$')\n",
    "    AND LENGTH(title) > 10\n",
    "GROUP BY\n",
    "    source\n",
    "ORDER BY num_articles DESC\n",
    "  LIMIT 100"
   ]
  },
  {
   "cell_type": "markdown",
   "metadata": {},
   "source": [
    "Now that we have good parsing of the URL to get the source, let's put together a dataset of source and titles. This will be our labeled dataset for machine learning."
   ]
  },
  {
   "cell_type": "code",
   "execution_count": 5,
   "metadata": {
    "tags": []
   },
   "outputs": [
    {
     "name": "stdout",
     "output_type": "stream",
     "text": [
      "\n",
      "SELECT \n",
      "    LOWER(REGEXP_REPLACE(title, '[^a-zA-Z0-9 $.-]', ' ')) AS title,\n",
      "    source\n",
      "FROM\n",
      "  (\n",
      "SELECT\n",
      "    title,\n",
      "    ARRAY_REVERSE(SPLIT(REGEXP_EXTRACT(url, '.*://(.[^/]+)/'), '.'))[safe_offset (1)] AS source\n",
      "    \n",
      "FROM\n",
      "    `bigquery-public-data.hacker_news.full`\n",
      "WHERE\n",
      "    REGEXP_CONTAINS(REGEXP_EXTRACT(url, '.*://(.[^/]+)/'), '.com$')\n",
      "    AND LENGTH(title) > 10\n",
      ")\n",
      "WHERE (source = 'github' OR source = 'nytimes' OR source = 'techcrunch')\n",
      "\n"
     ]
    }
   ],
   "source": [
    "regex = '.*://(.[^/]+)/'\n",
    "\n",
    "\n",
    "sub_query = \"\"\"\n",
    "SELECT\n",
    "    title,\n",
    "    ARRAY_REVERSE(SPLIT(REGEXP_EXTRACT(url, '{0}'), '.'))[safe_offset (1)] AS source\n",
    "    \n",
    "FROM\n",
    "    `bigquery-public-data.hacker_news.full`\n",
    "WHERE\n",
    "    REGEXP_CONTAINS(REGEXP_EXTRACT(url, '{0}'), '.com$')\n",
    "    AND LENGTH(title) > 10\n",
    "\"\"\".format(regex)\n",
    "\n",
    "\n",
    "query = \"\"\"\n",
    "SELECT \n",
    "    LOWER(REGEXP_REPLACE(title, '[^a-zA-Z0-9 $.-]', ' ')) AS title,\n",
    "    source\n",
    "FROM\n",
    "  ({sub_query})\n",
    "WHERE (source = 'github' OR source = 'nytimes' OR source = 'techcrunch')\n",
    "\"\"\".format(sub_query=sub_query)\n",
    "\n",
    "print(query)"
   ]
  },
  {
   "cell_type": "markdown",
   "metadata": {},
   "source": [
    "For ML training, we usually need to split our dataset into training and evaluation datasets (and perhaps an independent test dataset if we are going to do model or feature selection based on the evaluation dataset). AutoML however figures out on its own how to create these splits, so we won't need to do that here. \n",
    "\n"
   ]
  },
  {
   "cell_type": "code",
   "execution_count": 6,
   "metadata": {
    "tags": []
   },
   "outputs": [
    {
     "data": {
      "text/html": [
       "<div>\n",
       "<style scoped>\n",
       "    .dataframe tbody tr th:only-of-type {\n",
       "        vertical-align: middle;\n",
       "    }\n",
       "\n",
       "    .dataframe tbody tr th {\n",
       "        vertical-align: top;\n",
       "    }\n",
       "\n",
       "    .dataframe thead th {\n",
       "        text-align: right;\n",
       "    }\n",
       "</style>\n",
       "<table border=\"1\" class=\"dataframe\">\n",
       "  <thead>\n",
       "    <tr style=\"text-align: right;\">\n",
       "      <th></th>\n",
       "      <th>title</th>\n",
       "      <th>source</th>\n",
       "    </tr>\n",
       "  </thead>\n",
       "  <tbody>\n",
       "    <tr>\n",
       "      <th>0</th>\n",
       "      <td>show hn  make a header that reacts well to scr...</td>\n",
       "      <td>github</td>\n",
       "    </tr>\n",
       "    <tr>\n",
       "      <th>1</th>\n",
       "      <td>show hn  js object mapper generator from db sc...</td>\n",
       "      <td>github</td>\n",
       "    </tr>\n",
       "    <tr>\n",
       "      <th>2</th>\n",
       "      <td>show hn  webrtc nuts and bolts  a holistic way...</td>\n",
       "      <td>github</td>\n",
       "    </tr>\n",
       "    <tr>\n",
       "      <th>3</th>\n",
       "      <td>create a static website and api on aws with on...</td>\n",
       "      <td>github</td>\n",
       "    </tr>\n",
       "    <tr>\n",
       "      <th>4</th>\n",
       "      <td>top to bottom setup and update scripts for an ...</td>\n",
       "      <td>github</td>\n",
       "    </tr>\n",
       "  </tbody>\n",
       "</table>\n",
       "</div>"
      ],
      "text/plain": [
       "                                               title  source\n",
       "0  show hn  make a header that reacts well to scr...  github\n",
       "1  show hn  js object mapper generator from db sc...  github\n",
       "2  show hn  webrtc nuts and bolts  a holistic way...  github\n",
       "3  create a static website and api on aws with on...  github\n",
       "4  top to bottom setup and update scripts for an ...  github"
      ]
     },
     "execution_count": 6,
     "metadata": {},
     "output_type": "execute_result"
    }
   ],
   "source": [
    "bq = bigquery.Client(project=PROJECT)\n",
    "title_dataset = bq.query(query).to_dataframe()\n",
    "title_dataset.head()"
   ]
  },
  {
   "cell_type": "markdown",
   "metadata": {},
   "source": [
    "AutoML for text classification requires that\n",
    "* the dataset be in csv form with \n",
    "* the first column being the texts to classify or a GCS path to the text \n",
    "* the last colum to be the text labels\n",
    "\n",
    "The dataset we pulled from BiqQuery satisfies these requirements."
   ]
  },
  {
   "cell_type": "code",
   "execution_count": 7,
   "metadata": {
    "tags": []
   },
   "outputs": [
    {
     "name": "stdout",
     "output_type": "stream",
     "text": [
      "The full dataset contains 236186 titles\n"
     ]
    }
   ],
   "source": [
    "print(\"The full dataset contains {n} titles\".format(n=len(title_dataset)))"
   ]
  },
  {
   "cell_type": "markdown",
   "metadata": {},
   "source": [
    "Let's make sure we have roughly the same number of labels for each of our three labels:"
   ]
  },
  {
   "cell_type": "code",
   "execution_count": 8,
   "metadata": {
    "tags": []
   },
   "outputs": [
    {
     "data": {
      "text/plain": [
       "github        123624\n",
       "nytimes        64827\n",
       "techcrunch     47735\n",
       "Name: source, dtype: int64"
      ]
     },
     "execution_count": 8,
     "metadata": {},
     "output_type": "execute_result"
    }
   ],
   "source": [
    "title_dataset.source.value_counts()"
   ]
  },
  {
   "cell_type": "markdown",
   "metadata": {},
   "source": [
    "Finally we will save our data, which is currently in-memory, to disk.\n",
    "\n",
    "We will create a csv file containing the full dataset and another containing only 1000 articles for development.\n",
    "\n",
    "**Note:** It may take a long time to train AutoML on the full dataset, so we recommend to use the sample dataset for the purpose of learning the tool. \n"
   ]
  },
  {
   "cell_type": "code",
   "execution_count": 9,
   "metadata": {
    "tags": []
   },
   "outputs": [],
   "source": [
    "DATADIR = './data/'\n",
    "\n",
    "if not os.path.exists(DATADIR):\n",
    "    os.makedirs(DATADIR)"
   ]
  },
  {
   "cell_type": "code",
   "execution_count": 10,
   "metadata": {
    "tags": []
   },
   "outputs": [],
   "source": [
    "FULL_DATASET_NAME = 'titles_full.csv'\n",
    "FULL_DATASET_PATH = os.path.join(DATADIR, FULL_DATASET_NAME)\n",
    "\n",
    "# Let's shuffle the data before writing it to disk.\n",
    "title_dataset = title_dataset.sample(n=len(title_dataset))\n",
    "\n",
    "title_dataset.to_csv(\n",
    "    FULL_DATASET_PATH, header=False, index=False, encoding='utf-8')"
   ]
  },
  {
   "cell_type": "markdown",
   "metadata": {},
   "source": [
    "Now let's sample 1000 articles from the full dataset and make sure we have enough examples for each label in our sample dataset (see [here](https://cloud.google.com/natural-language/automl/docs/beginners-guide) for further details on how to prepare data for AutoML)."
   ]
  },
  {
   "cell_type": "code",
   "execution_count": 11,
   "metadata": {
    "tags": []
   },
   "outputs": [
    {
     "data": {
      "text/plain": [
       "github        547\n",
       "nytimes       265\n",
       "techcrunch    188\n",
       "Name: source, dtype: int64"
      ]
     },
     "execution_count": 11,
     "metadata": {},
     "output_type": "execute_result"
    }
   ],
   "source": [
    "sample_title_dataset = title_dataset.sample(n=1000)\n",
    "sample_title_dataset.source.value_counts()"
   ]
  },
  {
   "cell_type": "markdown",
   "metadata": {},
   "source": [
    "Let's write the sample datatset to disk."
   ]
  },
  {
   "cell_type": "code",
   "execution_count": 12,
   "metadata": {
    "tags": []
   },
   "outputs": [],
   "source": [
    "SAMPLE_DATASET_NAME = 'titles_sample.csv'\n",
    "SAMPLE_DATASET_PATH = os.path.join(DATADIR, SAMPLE_DATASET_NAME)\n",
    "\n",
    "sample_title_dataset.to_csv(\n",
    "    SAMPLE_DATASET_PATH, header=False, index=False, encoding='utf-8')"
   ]
  },
  {
   "cell_type": "code",
   "execution_count": 13,
   "metadata": {
    "tags": []
   },
   "outputs": [
    {
     "name": "stdout",
     "output_type": "stream",
     "text": [
      "2.6.5\n"
     ]
    }
   ],
   "source": [
    "import datetime\n",
    "import os\n",
    "import shutil\n",
    "\n",
    "import pandas as pd\n",
    "import tensorflow as tf\n",
    "from tensorflow.keras.callbacks import TensorBoard, EarlyStopping\n",
    "from tensorflow_hub import KerasLayer\n",
    "from tensorflow.keras.layers import Dense\n",
    "from tensorflow.keras.models import Sequential\n",
    "from tensorflow.keras.preprocessing.text import Tokenizer\n",
    "from tensorflow.keras.utils import to_categorical\n",
    "\n",
    "\n",
    "print(tf.__version__)"
   ]
  },
  {
   "cell_type": "code",
   "execution_count": 14,
   "metadata": {
    "tags": []
   },
   "outputs": [],
   "source": [
    "%matplotlib inline"
   ]
  },
  {
   "cell_type": "markdown",
   "metadata": {},
   "source": [
    "Let's start by specifying where the information about the trained models will be saved as well as where our dataset is located:"
   ]
  },
  {
   "cell_type": "code",
   "execution_count": 15,
   "metadata": {
    "tags": []
   },
   "outputs": [],
   "source": [
    "MODEL_DIR = \"./text_models\"\n",
    "DATA_DIR = \"./data\""
   ]
  },
  {
   "cell_type": "markdown",
   "metadata": {},
   "source": [
    "## Loading the dataset"
   ]
  },
  {
   "cell_type": "markdown",
   "metadata": {},
   "source": [
    "As in the previous labs, our dataset consists of titles of articles along with the label indicating from which source these articles have been taken from (GitHub, Tech-Crunch, or the New-York Times):"
   ]
  },
  {
   "cell_type": "code",
   "execution_count": 16,
   "metadata": {
    "tags": []
   },
   "outputs": [
    {
     "name": "stdout",
     "output_type": "stream",
     "text": [
      "titles_full.csv  titles_sample.csv\n"
     ]
    }
   ],
   "source": [
    "ls ./data/"
   ]
  },
  {
   "cell_type": "code",
   "execution_count": 18,
   "metadata": {
    "tags": []
   },
   "outputs": [
    {
     "data": {
      "text/html": [
       "<div>\n",
       "<style scoped>\n",
       "    .dataframe tbody tr th:only-of-type {\n",
       "        vertical-align: middle;\n",
       "    }\n",
       "\n",
       "    .dataframe tbody tr th {\n",
       "        vertical-align: top;\n",
       "    }\n",
       "\n",
       "    .dataframe thead th {\n",
       "        text-align: right;\n",
       "    }\n",
       "</style>\n",
       "<table border=\"1\" class=\"dataframe\">\n",
       "  <thead>\n",
       "    <tr style=\"text-align: right;\">\n",
       "      <th></th>\n",
       "      <th>title</th>\n",
       "      <th>source</th>\n",
       "    </tr>\n",
       "  </thead>\n",
       "  <tbody>\n",
       "    <tr>\n",
       "      <th>0</th>\n",
       "      <td>tim cook seeks to quell china fears in email t...</td>\n",
       "      <td>nytimes</td>\n",
       "    </tr>\n",
       "    <tr>\n",
       "      <th>1</th>\n",
       "      <td>show hn  fizzbuzz using neural networks in rust</td>\n",
       "      <td>github</td>\n",
       "    </tr>\n",
       "    <tr>\n",
       "      <th>2</th>\n",
       "      <td>vim anywhere</td>\n",
       "      <td>github</td>\n",
       "    </tr>\n",
       "    <tr>\n",
       "      <th>3</th>\n",
       "      <td>windows app store  i swear i ve seen this before</td>\n",
       "      <td>techcrunch</td>\n",
       "    </tr>\n",
       "    <tr>\n",
       "      <th>4</th>\n",
       "      <td>therac-25 revisited  radiation overdoses and u...</td>\n",
       "      <td>nytimes</td>\n",
       "    </tr>\n",
       "  </tbody>\n",
       "</table>\n",
       "</div>"
      ],
      "text/plain": [
       "                                               title      source\n",
       "0  tim cook seeks to quell china fears in email t...     nytimes\n",
       "1    show hn  fizzbuzz using neural networks in rust      github\n",
       "2                                       vim anywhere      github\n",
       "3  windows app store  i swear i ve seen this before   techcrunch\n",
       "4  therac-25 revisited  radiation overdoses and u...     nytimes"
      ]
     },
     "execution_count": 18,
     "metadata": {},
     "output_type": "execute_result"
    }
   ],
   "source": [
    "DATASET_NAME = \"titles_full.csv\"\n",
    "TITLE_SAMPLE_PATH = os.path.join(DATA_DIR, DATASET_NAME)\n",
    "COLUMNS = ['title', 'source']\n",
    "\n",
    "titles_df = pd.read_csv(TITLE_SAMPLE_PATH, header=None, names=COLUMNS)\n",
    "titles_df.head()"
   ]
  },
  {
   "cell_type": "markdown",
   "metadata": {},
   "source": [
    "Let's look again at the number of examples per label to make sure we have a well-balanced dataset:"
   ]
  },
  {
   "cell_type": "code",
   "execution_count": 19,
   "metadata": {
    "tags": []
   },
   "outputs": [
    {
     "data": {
      "text/plain": [
       "github        123624\n",
       "nytimes        64827\n",
       "techcrunch     47735\n",
       "Name: source, dtype: int64"
      ]
     },
     "execution_count": 19,
     "metadata": {},
     "output_type": "execute_result"
    }
   ],
   "source": [
    "titles_df.source.value_counts()"
   ]
  },
  {
   "cell_type": "markdown",
   "metadata": {},
   "source": [
    "## Preparing the labels"
   ]
  },
  {
   "cell_type": "markdown",
   "metadata": {},
   "source": [
    "In this lab, we will use pre-trained [TF-Hub embeddings modules for english](https://tfhub.dev/s?q=tf2%20embeddings%20text%20english) for the first layer of our models. One immediate\n",
    "advantage of doing so is that the TF-Hub embedding module will take care for us of processing the raw text. \n",
    "This also means that our model will be able to consume text directly instead of sequences of integers representing the words.\n",
    "\n",
    "However, as before, we still need to preprocess the labels into one-hot-encoded vectors:"
   ]
  },
  {
   "cell_type": "code",
   "execution_count": 20,
   "metadata": {
    "tags": []
   },
   "outputs": [],
   "source": [
    "CLASSES = {\n",
    "    'github': 0,\n",
    "    'nytimes': 1,\n",
    "    'techcrunch': 2\n",
    "}\n",
    "N_CLASSES = len(CLASSES)"
   ]
  },
  {
   "cell_type": "code",
   "execution_count": 21,
   "metadata": {
    "tags": []
   },
   "outputs": [
    {
     "data": {
      "text/plain": [
       "3"
      ]
     },
     "execution_count": 21,
     "metadata": {},
     "output_type": "execute_result"
    }
   ],
   "source": [
    "N_CLASSES"
   ]
  },
  {
   "cell_type": "code",
   "execution_count": 22,
   "metadata": {
    "tags": []
   },
   "outputs": [
    {
     "data": {
      "text/plain": [
       "{'github': 0, 'nytimes': 1, 'techcrunch': 2}"
      ]
     },
     "execution_count": 22,
     "metadata": {},
     "output_type": "execute_result"
    }
   ],
   "source": [
    "CLASSES"
   ]
  },
  {
   "cell_type": "code",
   "execution_count": 23,
   "metadata": {
    "tags": []
   },
   "outputs": [],
   "source": [
    "def encode_labels(sources):\n",
    "    classes = [CLASSES[source] for source in sources]\n",
    "    one_hots = to_categorical(classes, num_classes=N_CLASSES)\n",
    "    return one_hots"
   ]
  },
  {
   "cell_type": "code",
   "execution_count": 26,
   "metadata": {
    "tags": []
   },
   "outputs": [
    {
     "data": {
      "text/plain": [
       "0       nytimes\n",
       "1        github\n",
       "2        github\n",
       "3    techcrunch\n",
       "Name: source, dtype: object"
      ]
     },
     "execution_count": 26,
     "metadata": {},
     "output_type": "execute_result"
    }
   ],
   "source": [
    "titles_df.source[:4]"
   ]
  },
  {
   "cell_type": "code",
   "execution_count": 27,
   "metadata": {
    "tags": []
   },
   "outputs": [],
   "source": [
    "classes = [CLASSES[source] for source in titles_df.source[:4]]"
   ]
  },
  {
   "cell_type": "code",
   "execution_count": 28,
   "metadata": {
    "tags": []
   },
   "outputs": [
    {
     "data": {
      "text/plain": [
       "[1, 0, 0, 2]"
      ]
     },
     "execution_count": 28,
     "metadata": {},
     "output_type": "execute_result"
    }
   ],
   "source": [
    "classes"
   ]
  },
  {
   "cell_type": "code",
   "execution_count": 29,
   "metadata": {
    "tags": []
   },
   "outputs": [],
   "source": [
    "one_hots = to_categorical(classes, num_classes=N_CLASSES)"
   ]
  },
  {
   "cell_type": "code",
   "execution_count": 30,
   "metadata": {
    "tags": []
   },
   "outputs": [
    {
     "data": {
      "text/plain": [
       "array([[0., 1., 0.],\n",
       "       [1., 0., 0.],\n",
       "       [1., 0., 0.],\n",
       "       [0., 0., 1.]], dtype=float32)"
      ]
     },
     "execution_count": 30,
     "metadata": {},
     "output_type": "execute_result"
    }
   ],
   "source": [
    "one_hots"
   ]
  },
  {
   "cell_type": "code",
   "execution_count": 33,
   "metadata": {
    "tags": []
   },
   "outputs": [
    {
     "data": {
      "text/plain": [
       "array([1., 0., 0.], dtype=float32)"
      ]
     },
     "execution_count": 33,
     "metadata": {},
     "output_type": "execute_result"
    }
   ],
   "source": [
    "to_categorical(0, num_classes=N_CLASSES)"
   ]
  },
  {
   "cell_type": "code",
   "execution_count": 31,
   "metadata": {
    "tags": []
   },
   "outputs": [
    {
     "data": {
      "text/plain": [
       "array([0., 1., 0.], dtype=float32)"
      ]
     },
     "execution_count": 31,
     "metadata": {},
     "output_type": "execute_result"
    }
   ],
   "source": [
    "to_categorical(1, num_classes=N_CLASSES)"
   ]
  },
  {
   "cell_type": "code",
   "execution_count": 32,
   "metadata": {
    "tags": []
   },
   "outputs": [
    {
     "data": {
      "text/plain": [
       "array([0., 0., 1.], dtype=float32)"
      ]
     },
     "execution_count": 32,
     "metadata": {},
     "output_type": "execute_result"
    }
   ],
   "source": [
    "to_categorical(2, num_classes=N_CLASSES)"
   ]
  },
  {
   "cell_type": "code",
   "execution_count": 22,
   "metadata": {},
   "outputs": [
    {
     "data": {
      "text/plain": [
       "array([[0., 1., 0.],\n",
       "       [0., 1., 0.],\n",
       "       [1., 0., 0.],\n",
       "       [1., 0., 0.]], dtype=float32)"
      ]
     },
     "execution_count": 22,
     "metadata": {},
     "output_type": "execute_result"
    }
   ],
   "source": [
    "encode_labels(titles_df.source[:4])"
   ]
  },
  {
   "cell_type": "markdown",
   "metadata": {},
   "source": [
    "## Preparing the train/test splits"
   ]
  },
  {
   "cell_type": "markdown",
   "metadata": {},
   "source": [
    "Let's split our data into train and test splits:"
   ]
  },
  {
   "cell_type": "code",
   "execution_count": 35,
   "metadata": {
    "tags": []
   },
   "outputs": [
    {
     "data": {
      "text/plain": [
       "236186"
      ]
     },
     "execution_count": 35,
     "metadata": {},
     "output_type": "execute_result"
    }
   ],
   "source": [
    "len(titles_df)"
   ]
  },
  {
   "cell_type": "code",
   "execution_count": 36,
   "metadata": {
    "tags": []
   },
   "outputs": [],
   "source": [
    "N_TRAIN = int(len(titles_df) * 0.95)\n",
    "\n",
    "titles_train, sources_train = (\n",
    "    titles_df.title[:N_TRAIN], titles_df.source[:N_TRAIN])\n",
    "\n",
    "titles_valid, sources_valid = (\n",
    "    titles_df.title[N_TRAIN:], titles_df.source[N_TRAIN:])"
   ]
  },
  {
   "cell_type": "code",
   "execution_count": 41,
   "metadata": {
    "tags": []
   },
   "outputs": [
    {
     "data": {
      "text/plain": [
       "0         tim cook seeks to quell china fears in email t...\n",
       "1           show hn  fizzbuzz using neural networks in rust\n",
       "2                                              vim anywhere\n",
       "3         windows app store  i swear i ve seen this before \n",
       "4         therac-25 revisited  radiation overdoses and u...\n",
       "                                ...                        \n",
       "224371    inventree  open-source inventory management sy...\n",
       "224372    show hn  devlogs a small cli for personal logg...\n",
       "224373    show hn  appscroll is a lib that fixes the web...\n",
       "224374    show hn  log-malloc2   memory allocation track...\n",
       "224375    doctors transplant 3d printed ear made of huma...\n",
       "Name: title, Length: 224376, dtype: object"
      ]
     },
     "execution_count": 41,
     "metadata": {},
     "output_type": "execute_result"
    }
   ],
   "source": [
    "titles_train"
   ]
  },
  {
   "cell_type": "code",
   "execution_count": 42,
   "metadata": {
    "tags": []
   },
   "outputs": [
    {
     "data": {
      "text/plain": [
       "0            nytimes\n",
       "1             github\n",
       "2             github\n",
       "3         techcrunch\n",
       "4            nytimes\n",
       "             ...    \n",
       "224371        github\n",
       "224372        github\n",
       "224373        github\n",
       "224374        github\n",
       "224375       nytimes\n",
       "Name: source, Length: 224376, dtype: object"
      ]
     },
     "execution_count": 42,
     "metadata": {},
     "output_type": "execute_result"
    }
   ],
   "source": [
    "sources_train"
   ]
  },
  {
   "cell_type": "markdown",
   "metadata": {},
   "source": [
    "To be on the safe side, we verify that the train and test splits\n",
    "have roughly the same number of examples per class.\n",
    "\n",
    "Since it is the case, accuracy will be a good metric to use to measure\n",
    "the performance of our models."
   ]
  },
  {
   "cell_type": "code",
   "execution_count": 37,
   "metadata": {
    "tags": []
   },
   "outputs": [
    {
     "data": {
      "text/plain": [
       "github        117408\n",
       "nytimes        61658\n",
       "techcrunch     45310\n",
       "Name: source, dtype: int64"
      ]
     },
     "execution_count": 37,
     "metadata": {},
     "output_type": "execute_result"
    }
   ],
   "source": [
    "sources_train.value_counts()"
   ]
  },
  {
   "cell_type": "code",
   "execution_count": 38,
   "metadata": {
    "tags": []
   },
   "outputs": [
    {
     "data": {
      "text/plain": [
       "github        6216\n",
       "nytimes       3169\n",
       "techcrunch    2425\n",
       "Name: source, dtype: int64"
      ]
     },
     "execution_count": 38,
     "metadata": {},
     "output_type": "execute_result"
    }
   ],
   "source": [
    "sources_valid.value_counts()"
   ]
  },
  {
   "cell_type": "code",
   "execution_count": 43,
   "metadata": {
    "tags": []
   },
   "outputs": [
    {
     "data": {
      "text/plain": [
       "array(['tim cook seeks to quell china fears in email to jim cramer',\n",
       "       'show hn  fizzbuzz using neural networks in rust', 'vim anywhere',\n",
       "       ...,\n",
       "       'show hn  appscroll is a lib that fixes the website dragging issue on idevices',\n",
       "       'show hn  log-malloc2   memory allocation tracking library',\n",
       "       'doctors transplant 3d printed ear made of human cells'],\n",
       "      dtype=object)"
      ]
     },
     "execution_count": 43,
     "metadata": {},
     "output_type": "execute_result"
    }
   ],
   "source": [
    "titles_train.values"
   ]
  },
  {
   "cell_type": "markdown",
   "metadata": {},
   "source": [
    "Now let's create the features and labels we will feed our models with:"
   ]
  },
  {
   "cell_type": "code",
   "execution_count": 46,
   "metadata": {
    "tags": []
   },
   "outputs": [
    {
     "data": {
      "text/plain": [
       "array(['nytimes', 'github', 'github', ..., 'github', 'github', 'nytimes'],\n",
       "      dtype=object)"
      ]
     },
     "execution_count": 46,
     "metadata": {},
     "output_type": "execute_result"
    }
   ],
   "source": [
    "sources_train.values"
   ]
  },
  {
   "cell_type": "code",
   "execution_count": 47,
   "metadata": {
    "tags": []
   },
   "outputs": [
    {
     "data": {
      "text/plain": [
       "array([[0., 1., 0.],\n",
       "       [1., 0., 0.],\n",
       "       [1., 0., 0.],\n",
       "       ...,\n",
       "       [1., 0., 0.],\n",
       "       [1., 0., 0.],\n",
       "       [0., 1., 0.]], dtype=float32)"
      ]
     },
     "execution_count": 47,
     "metadata": {},
     "output_type": "execute_result"
    }
   ],
   "source": [
    "encode_labels(sources_train.values)"
   ]
  },
  {
   "cell_type": "code",
   "execution_count": 48,
   "metadata": {
    "tags": []
   },
   "outputs": [
    {
     "data": {
      "text/plain": [
       "array([[0., 1., 0.],\n",
       "       [1., 0., 0.],\n",
       "       [1., 0., 0.],\n",
       "       ...,\n",
       "       [1., 0., 0.],\n",
       "       [1., 0., 0.],\n",
       "       [0., 1., 0.]], dtype=float32)"
      ]
     },
     "execution_count": 48,
     "metadata": {},
     "output_type": "execute_result"
    }
   ],
   "source": [
    " encode_labels(sources_train)"
   ]
  },
  {
   "cell_type": "code",
   "execution_count": 50,
   "metadata": {
    "tags": []
   },
   "outputs": [],
   "source": [
    "X_train, Y_train = titles_train.values, encode_labels(sources_train)\n",
    "X_valid, Y_valid = titles_valid.values, encode_labels(sources_valid)"
   ]
  },
  {
   "cell_type": "code",
   "execution_count": 51,
   "metadata": {
    "tags": []
   },
   "outputs": [
    {
     "data": {
      "text/plain": [
       "array(['tim cook seeks to quell china fears in email to jim cramer',\n",
       "       'show hn  fizzbuzz using neural networks in rust', 'vim anywhere'],\n",
       "      dtype=object)"
      ]
     },
     "execution_count": 51,
     "metadata": {},
     "output_type": "execute_result"
    }
   ],
   "source": [
    "X_train[:3]"
   ]
  },
  {
   "cell_type": "code",
   "execution_count": 52,
   "metadata": {
    "tags": []
   },
   "outputs": [
    {
     "data": {
      "text/plain": [
       "array([[0., 1., 0.],\n",
       "       [1., 0., 0.],\n",
       "       [1., 0., 0.]], dtype=float32)"
      ]
     },
     "execution_count": 52,
     "metadata": {},
     "output_type": "execute_result"
    }
   ],
   "source": [
    "Y_train[:3]"
   ]
  },
  {
   "cell_type": "markdown",
   "metadata": {},
   "source": [
    "## NNLM Model"
   ]
  },
  {
   "cell_type": "markdown",
   "metadata": {},
   "source": [
    "We will first try a word embedding pre-trained using a [Neural Probabilistic Language Model](http://www.jmlr.org/papers/volume3/bengio03a/bengio03a.pdf). TF-Hub has a 50-dimensional one called \n",
    "[nnlm-en-dim50-with-normalization](https://tfhub.dev/google/tf2-preview/nnlm-en-dim50/1), which also\n",
    "normalizes the vectors produced. \n",
    "\n",
    "Once loaded from its url, the TF-hub module can be used as a normal Keras layer in a sequential or functional model. Since we have enough data to fine-tune the parameters of the pre-trained embedding itself, we will set `trainable=True` in the `KerasLayer` that loads the pre-trained embedding:"
   ]
  },
  {
   "cell_type": "code",
   "execution_count": 53,
   "metadata": {
    "tags": []
   },
   "outputs": [
    {
     "name": "stderr",
     "output_type": "stream",
     "text": [
      "2024-03-21 16:05:59.533531: W tensorflow/stream_executor/platform/default/dso_loader.cc:64] Could not load dynamic library 'libcuda.so.1'; dlerror: libcuda.so.1: cannot open shared object file: No such file or directory; LD_LIBRARY_PATH: /usr/local/cuda/lib64:/usr/local/nccl2/lib:/usr/local/cuda/extras/CUPTI/lib64\n",
      "2024-03-21 16:05:59.533591: W tensorflow/stream_executor/cuda/cuda_driver.cc:269] failed call to cuInit: UNKNOWN ERROR (303)\n",
      "2024-03-21 16:05:59.533621: I tensorflow/stream_executor/cuda/cuda_diagnostics.cc:156] kernel driver does not appear to be running on this host (instance-20240321-211402): /proc/driver/nvidia/version does not exist\n",
      "2024-03-21 16:05:59.533944: I tensorflow/core/platform/cpu_feature_guard.cc:142] This TensorFlow binary is optimized with oneAPI Deep Neural Network Library (oneDNN) to use the following CPU instructions in performance-critical operations:  AVX2 FMA\n",
      "To enable them in other operations, rebuild TensorFlow with the appropriate compiler flags.\n",
      "2024-03-21 16:05:59.616642: I tensorflow/compiler/mlir/mlir_graph_optimization_pass.cc:185] None of the MLIR Optimization Passes are enabled (registered 2)\n"
     ]
    }
   ],
   "source": [
    "# TODO 1\n",
    "NNLM = \"https://tfhub.dev/google/nnlm-en-dim50/2\"\n",
    "\n",
    "nnlm_module = KerasLayer(\n",
    "    NNLM, output_shape=[50], input_shape=[], dtype=tf.string, trainable=True)"
   ]
  },
  {
   "cell_type": "markdown",
   "metadata": {},
   "source": [
    "Note that this TF-Hub embedding produces a single 50-dimensional vector when passed a sentence:"
   ]
  },
  {
   "cell_type": "code",
   "execution_count": 54,
   "metadata": {
    "tags": []
   },
   "outputs": [
    {
     "data": {
      "text/plain": [
       "<tensorflow_hub.keras_layer.KerasLayer at 0x7f2337bd6550>"
      ]
     },
     "execution_count": 54,
     "metadata": {},
     "output_type": "execute_result"
    }
   ],
   "source": [
    "nnlm_module"
   ]
  },
  {
   "cell_type": "code",
   "execution_count": 55,
   "metadata": {
    "tags": []
   },
   "outputs": [
    {
     "data": {
      "text/plain": [
       "tensorflow_hub.keras_layer.KerasLayer"
      ]
     },
     "execution_count": 55,
     "metadata": {},
     "output_type": "execute_result"
    }
   ],
   "source": [
    "type(nnlm_module)"
   ]
  },
  {
   "cell_type": "code",
   "execution_count": 56,
   "metadata": {
    "tags": []
   },
   "outputs": [
    {
     "data": {
      "text/plain": [
       "<tf.Tensor: shape=(1, 50), dtype=float32, numpy=\n",
       "array([[ 0.19331802,  0.05893906,  0.15330684,  0.2505918 ,  0.19369544,\n",
       "         0.03578748,  0.07387847, -0.10962156, -0.11377034,  0.07172022,\n",
       "         0.12458669, -0.02289705, -0.18177685, -0.07084437, -0.00225849,\n",
       "        -0.36875236,  0.05772953, -0.14222091,  0.08765972, -0.14068899,\n",
       "        -0.07005888, -0.20634466,  0.07220475,  0.04258814,  0.0955702 ,\n",
       "         0.19424029, -0.42492998, -0.00706906, -0.02095   , -0.05055764,\n",
       "        -0.18988201, -0.02841404,  0.13222624, -0.01459922, -0.31255388,\n",
       "        -0.09577855,  0.05469003, -0.13858607,  0.01141668, -0.12352604,\n",
       "        -0.07250367, -0.11605677, -0.06976165,  0.14313601, -0.15183711,\n",
       "        -0.06836402,  0.03054246, -0.13259597, -0.14599673,  0.05094011]],\n",
       "      dtype=float32)>"
      ]
     },
     "execution_count": 56,
     "metadata": {},
     "output_type": "execute_result"
    }
   ],
   "source": [
    "# TODO 1\n",
    "nnlm_module(tf.constant([\"The dog is happy to see people in the street.\"]))"
   ]
  },
  {
   "cell_type": "code",
   "execution_count": 62,
   "metadata": {
    "tags": []
   },
   "outputs": [
    {
     "data": {
      "text/plain": [
       "<tf.Tensor: shape=(1, 50), dtype=float32, numpy=\n",
       "array([[-0.11197533, -0.16913511, -0.19055459,  0.29445693,  0.01615318,\n",
       "        -0.06885418,  0.00515917, -0.11509719,  0.0054177 ,  0.14020708,\n",
       "         0.05224575, -0.10230279,  0.00748178,  0.15209718,  0.02813803,\n",
       "         0.01910922,  0.21503825,  0.20204504,  0.05879848,  0.03755102,\n",
       "         0.03009396, -0.1045296 ,  0.05406675, -0.12857449, -0.08205441,\n",
       "        -0.21776357,  0.17014243, -0.0217985 , -0.15576184,  0.21386406,\n",
       "        -0.00721398, -0.16169453,  0.0194244 ,  0.00188898,  0.03278427,\n",
       "         0.0670682 ,  0.10304231, -0.13866006, -0.18515131, -0.10243256,\n",
       "         0.39242247, -0.13206819,  0.09119857, -0.15776414, -0.11081763,\n",
       "         0.22725792, -0.14917101, -0.07875023, -0.21858035,  0.17879735]],\n",
       "      dtype=float32)>"
      ]
     },
     "execution_count": 62,
     "metadata": {},
     "output_type": "execute_result"
    }
   ],
   "source": [
    "nnlm_module(tf.constant([\"Hi\"]))"
   ]
  },
  {
   "cell_type": "markdown",
   "metadata": {},
   "source": [
    "## Swivel Model"
   ]
  },
  {
   "cell_type": "markdown",
   "metadata": {},
   "source": [
    "Then we will try a word embedding obtained using [Swivel](https://arxiv.org/abs/1602.02215), an algorithm that essentially factorizes word co-occurrence matrices to create the words embeddings. \n",
    "TF-Hub hosts the pretrained [gnews-swivel-20dim-with-oov](https://tfhub.dev/google/tf2-preview/gnews-swivel-20dim-with-oov/1) 20-dimensional Swivel module."
   ]
  },
  {
   "cell_type": "code",
   "execution_count": 57,
   "metadata": {
    "tags": []
   },
   "outputs": [],
   "source": [
    "# TODO 1\n",
    "SWIVEL = \"https://tfhub.dev/google/tf2-preview/gnews-swivel-20dim-with-oov/1\"\n",
    "swivel_module = KerasLayer(\n",
    "    SWIVEL, output_shape=[20], input_shape=[], dtype=tf.string, trainable=True)"
   ]
  },
  {
   "cell_type": "markdown",
   "metadata": {},
   "source": [
    "Similarly as the previous pre-trained embedding, it outputs a single vector when passed a sentence:"
   ]
  },
  {
   "cell_type": "code",
   "execution_count": 61,
   "metadata": {
    "tags": []
   },
   "outputs": [
    {
     "data": {
      "text/plain": [
       "<tf.Tensor: shape=(1, 20), dtype=float32, numpy=\n",
       "array([[ 0.9967701 , -0.3100155 ,  0.5889897 , -0.16765082, -0.6171738 ,\n",
       "        -1.1586996 , -0.8619045 ,  0.7281645 ,  0.32575002,  0.4754492 ,\n",
       "        -0.9272241 ,  0.41090095, -0.75389475, -0.31525993, -1.8918804 ,\n",
       "         0.6423996 ,  0.6801622 , -0.1335669 , -1.0017993 , -0.11908641]],\n",
       "      dtype=float32)>"
      ]
     },
     "execution_count": 61,
     "metadata": {},
     "output_type": "execute_result"
    }
   ],
   "source": [
    "# TODO 1\n",
    "swivel_module(tf.constant([\"The dog is happy to see people in the street.\"]))"
   ]
  },
  {
   "cell_type": "markdown",
   "metadata": {},
   "source": [
    "## Building the models"
   ]
  },
  {
   "cell_type": "markdown",
   "metadata": {},
   "source": [
    "Let's write a function that \n",
    "\n",
    "* takes as input an instance of a `KerasLayer` (i.e. the `swivel_module` or the `nnlm_module` we constructed above) as well as the name of the model (say `swivel` or `nnlm`)\n",
    "* returns a compiled Keras sequential model starting with this pre-trained TF-hub layer, adding one or more dense relu layers to it, and ending with a softmax layer giving the probability of each of the classes:"
   ]
  },
  {
   "cell_type": "code",
   "execution_count": 63,
   "metadata": {
    "tags": []
   },
   "outputs": [],
   "source": [
    "def build_model(hub_module, name):\n",
    "    model = Sequential([\n",
    "        hub_module, # TODO 2\n",
    "        Dense(16, activation='relu'),\n",
    "        Dense(N_CLASSES, activation='softmax')\n",
    "    ], name=name)\n",
    "\n",
    "    model.compile(\n",
    "        optimizer='adam',\n",
    "        loss='categorical_crossentropy',\n",
    "        metrics=['accuracy']\n",
    "    )\n",
    "    return model"
   ]
  },
  {
   "cell_type": "markdown",
   "metadata": {},
   "source": [
    "Let's also wrap the training code into a `train_and_evaluate` function that \n",
    "* takes as input the training and validation data, as well as the compiled model itself, and the `batch_size`\n",
    "* trains the compiled model for 100 epochs at most, and does early-stopping when the validation loss is no longer decreasing\n",
    "* returns an `history` object, which will help us to plot the learning curves"
   ]
  },
  {
   "cell_type": "code",
   "execution_count": 64,
   "metadata": {
    "tags": []
   },
   "outputs": [],
   "source": [
    "def train_and_evaluate(train_data, val_data, model, batch_size=5000):\n",
    "    X_train, Y_train = train_data\n",
    "\n",
    "    tf.random.set_seed(33)\n",
    "\n",
    "    model_dir = os.path.join(MODEL_DIR, model.name)\n",
    "    if tf.io.gfile.exists(model_dir):\n",
    "        tf.io.gfile.rmtree(model_dir)\n",
    "\n",
    "    history = model.fit(\n",
    "        X_train, Y_train,\n",
    "        epochs=50,\n",
    "        batch_size=batch_size,\n",
    "        validation_data=val_data,\n",
    "        callbacks=TensorBoard(model_dir),\n",
    "    )\n",
    "    return history"
   ]
  },
  {
   "cell_type": "code",
   "execution_count": null,
   "metadata": {},
   "outputs": [],
   "source": [
    "5000/50"
   ]
  },
  {
   "cell_type": "markdown",
   "metadata": {},
   "source": [
    "## Training NNLM"
   ]
  },
  {
   "cell_type": "code",
   "execution_count": 65,
   "metadata": {
    "tags": []
   },
   "outputs": [],
   "source": [
    "data = (X_train, Y_train)\n",
    "val_data = (X_valid, Y_valid)"
   ]
  },
  {
   "cell_type": "code",
   "execution_count": 66,
   "metadata": {
    "tags": []
   },
   "outputs": [
    {
     "name": "stderr",
     "output_type": "stream",
     "text": [
      "2024-03-21 16:13:49.173327: I tensorflow/core/profiler/lib/profiler_session.cc:131] Profiler session initializing.\n",
      "2024-03-21 16:13:49.173623: I tensorflow/core/profiler/lib/profiler_session.cc:146] Profiler session started.\n",
      "2024-03-21 16:13:49.178043: I tensorflow/core/profiler/lib/profiler_session.cc:164] Profiler session tear down.\n"
     ]
    },
    {
     "name": "stdout",
     "output_type": "stream",
     "text": [
      "Epoch 1/50\n",
      " 1/45 [..............................] - ETA: 44s - loss: 1.1461 - accuracy: 0.2220"
     ]
    },
    {
     "name": "stderr",
     "output_type": "stream",
     "text": [
      "2024-03-21 16:13:50.329853: I tensorflow/core/profiler/lib/profiler_session.cc:131] Profiler session initializing.\n",
      "2024-03-21 16:13:50.330292: I tensorflow/core/profiler/lib/profiler_session.cc:146] Profiler session started.\n"
     ]
    },
    {
     "name": "stdout",
     "output_type": "stream",
     "text": [
      " 2/45 [>.............................] - ETA: 20s - loss: 1.1427 - accuracy: 0.2228"
     ]
    },
    {
     "name": "stderr",
     "output_type": "stream",
     "text": [
      "2024-03-21 16:13:50.787656: I tensorflow/core/profiler/lib/profiler_session.cc:66] Profiler session collecting data.\n",
      "2024-03-21 16:13:50.790749: I tensorflow/core/profiler/lib/profiler_session.cc:164] Profiler session tear down.\n",
      "2024-03-21 16:13:50.805893: I tensorflow/core/profiler/rpc/client/save_profile.cc:136] Creating directory: ./text_models/nnlm/train/plugins/profile/2024_03_21_16_13_50\n",
      "\n",
      "2024-03-21 16:13:50.807253: I tensorflow/core/profiler/rpc/client/save_profile.cc:142] Dumped gzipped tool data for trace.json.gz to ./text_models/nnlm/train/plugins/profile/2024_03_21_16_13_50/instance-20240321-211402.trace.json.gz\n",
      "2024-03-21 16:13:50.821167: I tensorflow/core/profiler/rpc/client/save_profile.cc:136] Creating directory: ./text_models/nnlm/train/plugins/profile/2024_03_21_16_13_50\n",
      "\n",
      "2024-03-21 16:13:50.821615: I tensorflow/core/profiler/rpc/client/save_profile.cc:142] Dumped gzipped tool data for memory_profile.json.gz to ./text_models/nnlm/train/plugins/profile/2024_03_21_16_13_50/instance-20240321-211402.memory_profile.json.gz\n",
      "2024-03-21 16:13:50.821973: I tensorflow/core/profiler/rpc/client/capture_profile.cc:251] Creating directory: ./text_models/nnlm/train/plugins/profile/2024_03_21_16_13_50\n",
      "Dumped tool data for xplane.pb to ./text_models/nnlm/train/plugins/profile/2024_03_21_16_13_50/instance-20240321-211402.xplane.pb\n",
      "Dumped tool data for overview_page.pb to ./text_models/nnlm/train/plugins/profile/2024_03_21_16_13_50/instance-20240321-211402.overview_page.pb\n",
      "Dumped tool data for input_pipeline.pb to ./text_models/nnlm/train/plugins/profile/2024_03_21_16_13_50/instance-20240321-211402.input_pipeline.pb\n",
      "Dumped tool data for tensorflow_stats.pb to ./text_models/nnlm/train/plugins/profile/2024_03_21_16_13_50/instance-20240321-211402.tensorflow_stats.pb\n",
      "Dumped tool data for kernel_stats.pb to ./text_models/nnlm/train/plugins/profile/2024_03_21_16_13_50/instance-20240321-211402.kernel_stats.pb\n",
      "\n"
     ]
    },
    {
     "name": "stdout",
     "output_type": "stream",
     "text": [
      "45/45 [==============================] - 22s 471ms/step - loss: 0.9945 - accuracy: 0.5541 - val_loss: 0.8277 - val_accuracy: 0.7445\n",
      "Epoch 2/50\n",
      "45/45 [==============================] - 20s 454ms/step - loss: 0.6556 - accuracy: 0.7994 - val_loss: 0.5096 - val_accuracy: 0.8318\n",
      "Epoch 3/50\n",
      "45/45 [==============================] - 20s 445ms/step - loss: 0.4206 - accuracy: 0.8598 - val_loss: 0.3707 - val_accuracy: 0.8649\n",
      "Epoch 4/50\n",
      "45/45 [==============================] - 21s 461ms/step - loss: 0.3200 - accuracy: 0.8848 - val_loss: 0.3172 - val_accuracy: 0.8819\n",
      "Epoch 5/50\n",
      "45/45 [==============================] - 20s 449ms/step - loss: 0.2716 - accuracy: 0.9007 - val_loss: 0.2928 - val_accuracy: 0.8890\n",
      "Epoch 6/50\n",
      "45/45 [==============================] - 20s 445ms/step - loss: 0.2423 - accuracy: 0.9112 - val_loss: 0.2812 - val_accuracy: 0.8931\n",
      "Epoch 7/50\n",
      "45/45 [==============================] - 21s 459ms/step - loss: 0.2219 - accuracy: 0.9192 - val_loss: 0.2756 - val_accuracy: 0.8939\n",
      "Epoch 8/50\n",
      "45/45 [==============================] - 20s 455ms/step - loss: 0.2064 - accuracy: 0.9249 - val_loss: 0.2739 - val_accuracy: 0.8951\n",
      "Epoch 9/50\n",
      "45/45 [==============================] - 20s 453ms/step - loss: 0.1942 - accuracy: 0.9294 - val_loss: 0.2741 - val_accuracy: 0.8941\n",
      "Epoch 10/50\n",
      "45/45 [==============================] - 20s 453ms/step - loss: 0.1841 - accuracy: 0.9334 - val_loss: 0.2761 - val_accuracy: 0.8950\n",
      "Epoch 11/50\n",
      "45/45 [==============================] - 20s 448ms/step - loss: 0.1758 - accuracy: 0.9366 - val_loss: 0.2788 - val_accuracy: 0.8945\n",
      "Epoch 12/50\n",
      "45/45 [==============================] - 20s 441ms/step - loss: 0.1686 - accuracy: 0.9395 - val_loss: 0.2832 - val_accuracy: 0.8939\n",
      "Epoch 13/50\n",
      "45/45 [==============================] - 21s 462ms/step - loss: 0.1626 - accuracy: 0.9416 - val_loss: 0.2860 - val_accuracy: 0.8943\n",
      "Epoch 14/50\n",
      "45/45 [==============================] - 20s 447ms/step - loss: 0.1572 - accuracy: 0.9439 - val_loss: 0.2913 - val_accuracy: 0.8934\n",
      "Epoch 15/50\n",
      "45/45 [==============================] - 20s 438ms/step - loss: 0.1524 - accuracy: 0.9455 - val_loss: 0.2950 - val_accuracy: 0.8936\n",
      "Epoch 16/50\n",
      "45/45 [==============================] - 20s 452ms/step - loss: 0.1481 - accuracy: 0.9472 - val_loss: 0.3003 - val_accuracy: 0.8914\n",
      "Epoch 17/50\n",
      "45/45 [==============================] - 20s 439ms/step - loss: 0.1444 - accuracy: 0.9485 - val_loss: 0.3051 - val_accuracy: 0.8920\n",
      "Epoch 18/50\n",
      "45/45 [==============================] - 20s 449ms/step - loss: 0.1408 - accuracy: 0.9498 - val_loss: 0.3084 - val_accuracy: 0.8926\n",
      "Epoch 19/50\n",
      "45/45 [==============================] - 21s 461ms/step - loss: 0.1375 - accuracy: 0.9511 - val_loss: 0.3143 - val_accuracy: 0.8914\n",
      "Epoch 20/50\n",
      "45/45 [==============================] - 20s 447ms/step - loss: 0.1345 - accuracy: 0.9525 - val_loss: 0.3190 - val_accuracy: 0.8913\n",
      "Epoch 21/50\n",
      "45/45 [==============================] - 20s 448ms/step - loss: 0.1317 - accuracy: 0.9535 - val_loss: 0.3233 - val_accuracy: 0.8914\n",
      "Epoch 22/50\n",
      "45/45 [==============================] - 21s 473ms/step - loss: 0.1290 - accuracy: 0.9544 - val_loss: 0.3278 - val_accuracy: 0.8910\n",
      "Epoch 23/50\n",
      "45/45 [==============================] - 20s 450ms/step - loss: 0.1264 - accuracy: 0.9556 - val_loss: 0.3325 - val_accuracy: 0.8915\n",
      "Epoch 24/50\n",
      "45/45 [==============================] - 20s 450ms/step - loss: 0.1239 - accuracy: 0.9564 - val_loss: 0.3374 - val_accuracy: 0.8923\n",
      "Epoch 25/50\n",
      "45/45 [==============================] - 21s 469ms/step - loss: 0.1216 - accuracy: 0.9572 - val_loss: 0.3424 - val_accuracy: 0.8917\n",
      "Epoch 26/50\n",
      "45/45 [==============================] - 21s 464ms/step - loss: 0.1191 - accuracy: 0.9580 - val_loss: 0.3465 - val_accuracy: 0.8922\n",
      "Epoch 27/50\n",
      "45/45 [==============================] - 21s 465ms/step - loss: 0.1167 - accuracy: 0.9593 - val_loss: 0.3511 - val_accuracy: 0.8910\n",
      "Epoch 28/50\n",
      "45/45 [==============================] - 21s 463ms/step - loss: 0.1145 - accuracy: 0.9602 - val_loss: 0.3558 - val_accuracy: 0.8912\n",
      "Epoch 29/50\n",
      "45/45 [==============================] - 20s 449ms/step - loss: 0.1123 - accuracy: 0.9611 - val_loss: 0.3595 - val_accuracy: 0.8909\n",
      "Epoch 30/50\n",
      "45/45 [==============================] - 20s 449ms/step - loss: 0.1099 - accuracy: 0.9620 - val_loss: 0.3653 - val_accuracy: 0.8910\n",
      "Epoch 31/50\n",
      "45/45 [==============================] - 21s 469ms/step - loss: 0.1076 - accuracy: 0.9629 - val_loss: 0.3690 - val_accuracy: 0.8922\n",
      "Epoch 32/50\n",
      "45/45 [==============================] - 21s 461ms/step - loss: 0.1053 - accuracy: 0.9640 - val_loss: 0.3734 - val_accuracy: 0.8926\n",
      "Epoch 33/50\n",
      "45/45 [==============================] - 20s 454ms/step - loss: 0.1030 - accuracy: 0.9650 - val_loss: 0.3784 - val_accuracy: 0.8908\n",
      "Epoch 34/50\n",
      "45/45 [==============================] - 20s 453ms/step - loss: 0.1008 - accuracy: 0.9658 - val_loss: 0.3830 - val_accuracy: 0.8905\n",
      "Epoch 35/50\n",
      "45/45 [==============================] - 20s 450ms/step - loss: 0.0986 - accuracy: 0.9669 - val_loss: 0.3880 - val_accuracy: 0.8916\n",
      "Epoch 36/50\n",
      "45/45 [==============================] - 21s 458ms/step - loss: 0.0963 - accuracy: 0.9682 - val_loss: 0.3919 - val_accuracy: 0.8909\n",
      "Epoch 37/50\n",
      "45/45 [==============================] - 20s 444ms/step - loss: 0.0939 - accuracy: 0.9687 - val_loss: 0.3974 - val_accuracy: 0.8904\n",
      "Epoch 38/50\n",
      "45/45 [==============================] - 20s 453ms/step - loss: 0.0917 - accuracy: 0.9699 - val_loss: 0.4035 - val_accuracy: 0.8919\n",
      "Epoch 39/50\n",
      "45/45 [==============================] - 21s 456ms/step - loss: 0.0894 - accuracy: 0.9707 - val_loss: 0.4082 - val_accuracy: 0.8898\n",
      "Epoch 40/50\n",
      "45/45 [==============================] - 20s 449ms/step - loss: 0.0871 - accuracy: 0.9718 - val_loss: 0.4130 - val_accuracy: 0.8899\n",
      "Epoch 41/50\n",
      "45/45 [==============================] - 20s 446ms/step - loss: 0.0848 - accuracy: 0.9728 - val_loss: 0.4176 - val_accuracy: 0.8903\n",
      "Epoch 42/50\n",
      "45/45 [==============================] - 21s 466ms/step - loss: 0.0825 - accuracy: 0.9737 - val_loss: 0.4240 - val_accuracy: 0.8890\n",
      "Epoch 43/50\n",
      "45/45 [==============================] - 20s 442ms/step - loss: 0.0803 - accuracy: 0.9744 - val_loss: 0.4291 - val_accuracy: 0.8898\n",
      "Epoch 44/50\n",
      "45/45 [==============================] - 21s 462ms/step - loss: 0.0781 - accuracy: 0.9755 - val_loss: 0.4345 - val_accuracy: 0.8903\n",
      "Epoch 45/50\n",
      "45/45 [==============================] - 21s 459ms/step - loss: 0.0759 - accuracy: 0.9763 - val_loss: 0.4407 - val_accuracy: 0.8894\n",
      "Epoch 46/50\n",
      "45/45 [==============================] - 20s 446ms/step - loss: 0.0738 - accuracy: 0.9771 - val_loss: 0.4462 - val_accuracy: 0.8903\n",
      "Epoch 47/50\n",
      "45/45 [==============================] - 20s 444ms/step - loss: 0.0718 - accuracy: 0.9779 - val_loss: 0.4522 - val_accuracy: 0.8899\n",
      "Epoch 48/50\n",
      "45/45 [==============================] - 21s 462ms/step - loss: 0.0696 - accuracy: 0.9789 - val_loss: 0.4584 - val_accuracy: 0.8901\n",
      "Epoch 49/50\n",
      "45/45 [==============================] - 20s 442ms/step - loss: 0.0677 - accuracy: 0.9797 - val_loss: 0.4659 - val_accuracy: 0.8892\n",
      "Epoch 50/50\n",
      "45/45 [==============================] - 20s 451ms/step - loss: 0.0656 - accuracy: 0.9806 - val_loss: 0.4716 - val_accuracy: 0.8893\n"
     ]
    }
   ],
   "source": [
    "nnlm_model = build_model(nnlm_module, 'nnlm')\n",
    "nnlm_history = train_and_evaluate(data, val_data, nnlm_model)"
   ]
  },
  {
   "cell_type": "code",
   "execution_count": 67,
   "metadata": {
    "tags": []
   },
   "outputs": [],
   "source": [
    "# 23618*0.95/5000 = 45 steps per epcoh to process whole training data"
   ]
  },
  {
   "cell_type": "code",
   "execution_count": 69,
   "metadata": {
    "tags": []
   },
   "outputs": [
    {
     "data": {
      "text/plain": [
       "<AxesSubplot: >"
      ]
     },
     "execution_count": 69,
     "metadata": {},
     "output_type": "execute_result"
    },
    {
     "data": {
      "image/png": "[encoded data removed]",
      "text/plain": [
       "<Figure size 640x480 with 1 Axes>"
      ]
     },
     "metadata": {},
     "output_type": "display_data"
    },
    {
     "data": {
      "image/png": "[encoded data removed]",
      "text/plain": [
       "<Figure size 640x480 with 1 Axes>"
      ]
     },
     "metadata": {},
     "output_type": "display_data"
    }
   ],
   "source": [
    "history = nnlm_history\n",
    "pd.DataFrame(history.history)[['loss', 'val_loss']].plot()\n",
    "pd.DataFrame(history.history)[['accuracy', 'val_accuracy']].plot()"
   ]
  },
  {
   "cell_type": "markdown",
   "metadata": {},
   "source": [
    "## Training Swivel"
   ]
  },
  {
   "cell_type": "code",
   "execution_count": 70,
   "metadata": {
    "tags": []
   },
   "outputs": [],
   "source": [
    "swivel_model = build_model(swivel_module, name='swivel')"
   ]
  },
  {
   "cell_type": "code",
   "execution_count": 71,
   "metadata": {
    "tags": []
   },
   "outputs": [
    {
     "name": "stderr",
     "output_type": "stream",
     "text": [
      "2024-03-21 16:32:15.026479: I tensorflow/core/profiler/lib/profiler_session.cc:131] Profiler session initializing.\n",
      "2024-03-21 16:32:15.026967: I tensorflow/core/profiler/lib/profiler_session.cc:146] Profiler session started.\n",
      "2024-03-21 16:32:15.027130: I tensorflow/core/profiler/lib/profiler_session.cc:164] Profiler session tear down.\n"
     ]
    },
    {
     "name": "stdout",
     "output_type": "stream",
     "text": [
      "Epoch 1/50\n",
      " 6/45 [===>..........................] - ETA: 1s - loss: 1.3186 - accuracy: 0.2804"
     ]
    },
    {
     "name": "stderr",
     "output_type": "stream",
     "text": [
      "2024-03-21 16:32:15.594496: I tensorflow/core/profiler/lib/profiler_session.cc:131] Profiler session initializing.\n",
      "2024-03-21 16:32:15.594673: I tensorflow/core/profiler/lib/profiler_session.cc:146] Profiler session started.\n",
      "2024-03-21 16:32:15.648586: I tensorflow/core/profiler/lib/profiler_session.cc:66] Profiler session collecting data.\n",
      "2024-03-21 16:32:15.649774: I tensorflow/core/profiler/lib/profiler_session.cc:164] Profiler session tear down.\n",
      "2024-03-21 16:32:15.651728: I tensorflow/core/profiler/rpc/client/save_profile.cc:136] Creating directory: ./text_models/swivel/train/plugins/profile/2024_03_21_16_32_15\n",
      "\n",
      "2024-03-21 16:32:15.652819: I tensorflow/core/profiler/rpc/client/save_profile.cc:142] Dumped gzipped tool data for trace.json.gz to ./text_models/swivel/train/plugins/profile/2024_03_21_16_32_15/instance-20240321-211402.trace.json.gz\n",
      "2024-03-21 16:32:15.654446: I tensorflow/core/profiler/rpc/client/save_profile.cc:136] Creating directory: ./text_models/swivel/train/plugins/profile/2024_03_21_16_32_15\n",
      "\n",
      "2024-03-21 16:32:15.654580: I tensorflow/core/profiler/rpc/client/save_profile.cc:142] Dumped gzipped tool data for memory_profile.json.gz to ./text_models/swivel/train/plugins/profile/2024_03_21_16_32_15/instance-20240321-211402.memory_profile.json.gz\n",
      "2024-03-21 16:32:15.654905: I tensorflow/core/profiler/rpc/client/capture_profile.cc:251] Creating directory: ./text_models/swivel/train/plugins/profile/2024_03_21_16_32_15\n",
      "Dumped tool data for xplane.pb to ./text_models/swivel/train/plugins/profile/2024_03_21_16_32_15/instance-20240321-211402.xplane.pb\n",
      "Dumped tool data for overview_page.pb to ./text_models/swivel/train/plugins/profile/2024_03_21_16_32_15/instance-20240321-211402.overview_page.pb\n",
      "Dumped tool data for input_pipeline.pb to ./text_models/swivel/train/plugins/profile/2024_03_21_16_32_15/instance-20240321-211402.input_pipeline.pb\n",
      "Dumped tool data for tensorflow_stats.pb to ./text_models/swivel/train/plugins/profile/2024_03_21_16_32_15/instance-20240321-211402.tensorflow_stats.pb\n",
      "Dumped tool data for kernel_stats.pb to ./text_models/swivel/train/plugins/profile/2024_03_21_16_32_15/instance-20240321-211402.kernel_stats.pb\n",
      "\n"
     ]
    },
    {
     "name": "stdout",
     "output_type": "stream",
     "text": [
      "45/45 [==============================] - 2s 26ms/step - loss: 1.0998 - accuracy: 0.4353 - val_loss: 0.9190 - val_accuracy: 0.5953\n",
      "Epoch 2/50\n",
      "45/45 [==============================] - 1s 21ms/step - loss: 0.8406 - accuracy: 0.6366 - val_loss: 0.7692 - val_accuracy: 0.6732\n",
      "Epoch 3/50\n",
      "45/45 [==============================] - 1s 22ms/step - loss: 0.7136 - accuracy: 0.6995 - val_loss: 0.6562 - val_accuracy: 0.7264\n",
      "Epoch 4/50\n",
      "45/45 [==============================] - 1s 22ms/step - loss: 0.6097 - accuracy: 0.7497 - val_loss: 0.5672 - val_accuracy: 0.7681\n",
      "Epoch 5/50\n",
      "45/45 [==============================] - 1s 22ms/step - loss: 0.5322 - accuracy: 0.7827 - val_loss: 0.5068 - val_accuracy: 0.7895\n",
      "Epoch 6/50\n",
      "45/45 [==============================] - 1s 22ms/step - loss: 0.4801 - accuracy: 0.8041 - val_loss: 0.4674 - val_accuracy: 0.8060\n",
      "Epoch 7/50\n",
      "45/45 [==============================] - 1s 22ms/step - loss: 0.4444 - accuracy: 0.8194 - val_loss: 0.4398 - val_accuracy: 0.8180\n",
      "Epoch 8/50\n",
      "45/45 [==============================] - 1s 22ms/step - loss: 0.4182 - accuracy: 0.8303 - val_loss: 0.4202 - val_accuracy: 0.8263\n",
      "Epoch 9/50\n",
      "45/45 [==============================] - 1s 21ms/step - loss: 0.3981 - accuracy: 0.8392 - val_loss: 0.4053 - val_accuracy: 0.8339\n",
      "Epoch 10/50\n",
      "45/45 [==============================] - 1s 22ms/step - loss: 0.3820 - accuracy: 0.8470 - val_loss: 0.3940 - val_accuracy: 0.8398\n",
      "Epoch 11/50\n",
      "45/45 [==============================] - 1s 22ms/step - loss: 0.3687 - accuracy: 0.8528 - val_loss: 0.3847 - val_accuracy: 0.8434\n",
      "Epoch 12/50\n",
      "45/45 [==============================] - 1s 22ms/step - loss: 0.3577 - accuracy: 0.8577 - val_loss: 0.3782 - val_accuracy: 0.8468\n",
      "Epoch 13/50\n",
      "45/45 [==============================] - 1s 22ms/step - loss: 0.3485 - accuracy: 0.8615 - val_loss: 0.3721 - val_accuracy: 0.8506\n",
      "Epoch 14/50\n",
      "45/45 [==============================] - 1s 22ms/step - loss: 0.3406 - accuracy: 0.8650 - val_loss: 0.3682 - val_accuracy: 0.8520\n",
      "Epoch 15/50\n",
      "45/45 [==============================] - 1s 22ms/step - loss: 0.3338 - accuracy: 0.8678 - val_loss: 0.3647 - val_accuracy: 0.8542\n",
      "Epoch 16/50\n",
      "45/45 [==============================] - 1s 22ms/step - loss: 0.3279 - accuracy: 0.8703 - val_loss: 0.3618 - val_accuracy: 0.8550\n",
      "Epoch 17/50\n",
      "45/45 [==============================] - 1s 21ms/step - loss: 0.3227 - accuracy: 0.8727 - val_loss: 0.3599 - val_accuracy: 0.8562\n",
      "Epoch 18/50\n",
      "45/45 [==============================] - 1s 22ms/step - loss: 0.3181 - accuracy: 0.8744 - val_loss: 0.3574 - val_accuracy: 0.8573\n",
      "Epoch 19/50\n",
      "45/45 [==============================] - 1s 22ms/step - loss: 0.3140 - accuracy: 0.8767 - val_loss: 0.3564 - val_accuracy: 0.8578\n",
      "Epoch 20/50\n",
      "45/45 [==============================] - 1s 21ms/step - loss: 0.3104 - accuracy: 0.8783 - val_loss: 0.3552 - val_accuracy: 0.8575\n",
      "Epoch 21/50\n",
      "45/45 [==============================] - 1s 22ms/step - loss: 0.3070 - accuracy: 0.8798 - val_loss: 0.3549 - val_accuracy: 0.8587\n",
      "Epoch 22/50\n",
      "45/45 [==============================] - 1s 22ms/step - loss: 0.3040 - accuracy: 0.8810 - val_loss: 0.3541 - val_accuracy: 0.8596\n",
      "Epoch 23/50\n",
      "45/45 [==============================] - 1s 22ms/step - loss: 0.3012 - accuracy: 0.8820 - val_loss: 0.3533 - val_accuracy: 0.8598\n",
      "Epoch 24/50\n",
      "45/45 [==============================] - 1s 22ms/step - loss: 0.2987 - accuracy: 0.8832 - val_loss: 0.3532 - val_accuracy: 0.8601\n",
      "Epoch 25/50\n",
      "45/45 [==============================] - 1s 22ms/step - loss: 0.2964 - accuracy: 0.8843 - val_loss: 0.3533 - val_accuracy: 0.8607\n",
      "Epoch 26/50\n",
      "45/45 [==============================] - 1s 22ms/step - loss: 0.2942 - accuracy: 0.8850 - val_loss: 0.3527 - val_accuracy: 0.8607\n",
      "Epoch 27/50\n",
      "45/45 [==============================] - 1s 22ms/step - loss: 0.2923 - accuracy: 0.8860 - val_loss: 0.3526 - val_accuracy: 0.8610\n",
      "Epoch 28/50\n",
      "45/45 [==============================] - 1s 22ms/step - loss: 0.2904 - accuracy: 0.8867 - val_loss: 0.3531 - val_accuracy: 0.8611\n",
      "Epoch 29/50\n",
      "45/45 [==============================] - 1s 22ms/step - loss: 0.2887 - accuracy: 0.8875 - val_loss: 0.3535 - val_accuracy: 0.8605\n",
      "Epoch 30/50\n",
      "45/45 [==============================] - 1s 22ms/step - loss: 0.2870 - accuracy: 0.8882 - val_loss: 0.3535 - val_accuracy: 0.8614\n",
      "Epoch 31/50\n",
      "45/45 [==============================] - 1s 22ms/step - loss: 0.2854 - accuracy: 0.8890 - val_loss: 0.3537 - val_accuracy: 0.8608\n",
      "Epoch 32/50\n",
      "45/45 [==============================] - 1s 22ms/step - loss: 0.2839 - accuracy: 0.8897 - val_loss: 0.3539 - val_accuracy: 0.8607\n",
      "Epoch 33/50\n",
      "45/45 [==============================] - 1s 22ms/step - loss: 0.2824 - accuracy: 0.8903 - val_loss: 0.3549 - val_accuracy: 0.8609\n",
      "Epoch 34/50\n",
      "45/45 [==============================] - 1s 22ms/step - loss: 0.2811 - accuracy: 0.8909 - val_loss: 0.3548 - val_accuracy: 0.8615\n",
      "Epoch 35/50\n",
      "45/45 [==============================] - 1s 23ms/step - loss: 0.2799 - accuracy: 0.8913 - val_loss: 0.3552 - val_accuracy: 0.8609\n",
      "Epoch 36/50\n",
      "45/45 [==============================] - 1s 22ms/step - loss: 0.2786 - accuracy: 0.8919 - val_loss: 0.3555 - val_accuracy: 0.8610\n",
      "Epoch 37/50\n",
      "45/45 [==============================] - 1s 23ms/step - loss: 0.2774 - accuracy: 0.8923 - val_loss: 0.3561 - val_accuracy: 0.8610\n",
      "Epoch 38/50\n",
      "45/45 [==============================] - 1s 22ms/step - loss: 0.2762 - accuracy: 0.8928 - val_loss: 0.3562 - val_accuracy: 0.8615\n",
      "Epoch 39/50\n",
      "45/45 [==============================] - 1s 22ms/step - loss: 0.2751 - accuracy: 0.8932 - val_loss: 0.3565 - val_accuracy: 0.8610\n",
      "Epoch 40/50\n",
      "45/45 [==============================] - 1s 22ms/step - loss: 0.2740 - accuracy: 0.8937 - val_loss: 0.3566 - val_accuracy: 0.8624\n",
      "Epoch 41/50\n",
      "45/45 [==============================] - 1s 22ms/step - loss: 0.2729 - accuracy: 0.8943 - val_loss: 0.3575 - val_accuracy: 0.8616\n",
      "Epoch 42/50\n",
      "45/45 [==============================] - 1s 22ms/step - loss: 0.2718 - accuracy: 0.8947 - val_loss: 0.3580 - val_accuracy: 0.8618\n",
      "Epoch 43/50\n",
      "45/45 [==============================] - 1s 22ms/step - loss: 0.2707 - accuracy: 0.8953 - val_loss: 0.3582 - val_accuracy: 0.8619\n",
      "Epoch 44/50\n",
      "45/45 [==============================] - 1s 22ms/step - loss: 0.2697 - accuracy: 0.8956 - val_loss: 0.3587 - val_accuracy: 0.8623\n",
      "Epoch 45/50\n",
      "45/45 [==============================] - 1s 22ms/step - loss: 0.2686 - accuracy: 0.8961 - val_loss: 0.3592 - val_accuracy: 0.8613\n",
      "Epoch 46/50\n",
      "45/45 [==============================] - 1s 22ms/step - loss: 0.2676 - accuracy: 0.8966 - val_loss: 0.3595 - val_accuracy: 0.8627\n",
      "Epoch 47/50\n",
      "45/45 [==============================] - 1s 25ms/step - loss: 0.2665 - accuracy: 0.8972 - val_loss: 0.3602 - val_accuracy: 0.8617\n",
      "Epoch 48/50\n",
      "45/45 [==============================] - 1s 27ms/step - loss: 0.2655 - accuracy: 0.8976 - val_loss: 0.3600 - val_accuracy: 0.8623\n",
      "Epoch 49/50\n",
      "45/45 [==============================] - 1s 28ms/step - loss: 0.2645 - accuracy: 0.8981 - val_loss: 0.3611 - val_accuracy: 0.8623\n",
      "Epoch 50/50\n",
      "45/45 [==============================] - 1s 26ms/step - loss: 0.2634 - accuracy: 0.8986 - val_loss: 0.3623 - val_accuracy: 0.8621\n"
     ]
    }
   ],
   "source": [
    "swivel_history = train_and_evaluate(data, val_data, swivel_model)"
   ]
  },
  {
   "cell_type": "code",
   "execution_count": 72,
   "metadata": {
    "tags": []
   },
   "outputs": [],
   "source": [
    "# past few epochs its 0.86 hetre where as it was increasing in above model and same epochs it has more accuracy"
   ]
  },
  {
   "cell_type": "code",
   "execution_count": 73,
   "metadata": {
    "tags": []
   },
   "outputs": [
    {
     "data": {
      "text/plain": [
       "<AxesSubplot: >"
      ]
     },
     "execution_count": 73,
     "metadata": {},
     "output_type": "execute_result"
    },
    {
     "data": {
      "image/png": "[encoded data removed]",
      "text/plain": [
       "<Figure size 640x480 with 1 Axes>"
      ]
     },
     "metadata": {},
     "output_type": "display_data"
    },
    {
     "data": {
      "image/png": "[encoded data removed]",
      "text/plain": [
       "<Figure size 640x480 with 1 Axes>"
      ]
     },
     "metadata": {},
     "output_type": "display_data"
    }
   ],
   "source": [
    "history = swivel_history\n",
    "pd.DataFrame(history.history)[['loss', 'val_loss']].plot()\n",
    "pd.DataFrame(history.history)[['accuracy', 'val_accuracy']].plot()"
   ]
  },
  {
   "cell_type": "markdown",
   "metadata": {},
   "source": [
    "Swivel trains faster but achieves a lower validation accuracy, and requires more epochs to train on."
   ]
  },
  {
   "cell_type": "markdown",
   "metadata": {},
   "source": [
    "## Bonus"
   ]
  },
  {
   "cell_type": "markdown",
   "metadata": {},
   "source": [
    "Try to beat the best model by modifying the model architecture, changing the TF-Hub embedding, and tweaking the training parameters."
   ]
  },
  {
   "cell_type": "markdown",
   "metadata": {},
   "source": [
    "Copyright 2023 Google Inc. Licensed under the Apache License, Version 2.0 (the \"License\"); you may not use this file except in compliance with the License. You may obtain a copy of the License at http://www.apache.org/licenses/LICENSE-2.0 Unless required by applicable law or agreed to in writing, software distributed under the License is distributed on an \"AS IS\" BASIS, WITHOUT WARRANTIES OR CONDITIONS OF ANY KIND, either express or implied. See the License for the specific language governing permissions and limitations under the License"
   ]
  }
 ],
 "metadata": {
  "environment": {
   "kernel": "python3",
   "name": "tf2-gpu.2-6.m118",
   "type": "gcloud",
   "uri": "us-docker.pkg.dev/deeplearning-platform-release/gcr.io/tf2-gpu.2-6:m118"
  },
  "kernelspec": {
   "display_name": "Python 3 (Local)",
   "language": "python",
   "name": "python3"
  },
  "language_info": {
   "codemirror_mode": {
    "name": "ipython",
    "version": 3
   },
   "file_extension": ".py",
   "mimetype": "text/x-python",
   "name": "python",
   "nbconvert_exporter": "python",
   "pygments_lexer": "ipython3",
   "version": "3.9.18"
  }
 },
 "nbformat": 4,
 "nbformat_minor": 4
}
